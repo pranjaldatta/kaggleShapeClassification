{
  "nbformat": 4,
  "nbformat_minor": 0,
  "metadata": {
    "colab": {
      "name": "ShapesClassifiction.ipynb",
      "version": "0.3.2",
      "provenance": [],
      "collapsed_sections": []
    },
    "kernelspec": {
      "name": "python3",
      "display_name": "Python 3"
    },
    "accelerator": "GPU"
  },
  "cells": [
    {
      "metadata": {
        "id": "aCAxIZQvJMTp",
        "colab_type": "code",
        "colab": {}
      },
      "cell_type": "code",
      "source": [
        "# http://pytorch.org/\n",
        "from os.path import exists\n",
        "from wheel.pep425tags import get_abbr_impl, get_impl_ver, get_abi_tag\n",
        "platform = '{}{}-{}'.format(get_abbr_impl(), get_impl_ver(), get_abi_tag())\n",
        "cuda_output = !ldconfig -p|grep cudart.so|sed -e 's/.*\\.\\([0-9]*\\)\\.\\([0-9]*\\)$/cu\\1\\2/'\n",
        "accelerator = cuda_output[0] if exists('/dev/nvidia0') else 'cpu'\n",
        "\n",
        "!pip install -q http://download.pytorch.org/whl/{accelerator}/torch-0.4.1-{platform}-linux_x86_64.whl torchvision\n",
        "import torch"
      ],
      "execution_count": 0,
      "outputs": []
    },
    {
      "metadata": {
        "id": "4IqfgCDxHQqo",
        "colab_type": "code",
        "colab": {}
      },
      "cell_type": "code",
      "source": [
        "!pip install -q kaggle\n",
        "# The Kaggle API client expects this file to be in ~/.kaggle,\n",
        "# so move it there.\n",
        "!mkdir -p ~/.kaggle\n",
        "!cp kaggle.json ~/.kaggle/\n",
        "\n",
        "# This permissions change avoids a warning on Kaggle tool startup.\n",
        "!chmod 600 ~/.kaggle/kaggle.json"
      ],
      "execution_count": 0,
      "outputs": []
    },
    {
      "metadata": {
        "id": "o65UsgRnKTZI",
        "colab_type": "code",
        "colab": {
          "base_uri": "https://localhost:8080/",
          "height": 34
        },
        "outputId": "393dd850-78fb-4657-fcd0-5fd2122d5344"
      },
      "cell_type": "code",
      "source": [
        "#importing the libraries we may need\n",
        "import pandas as pd\n",
        "import numpy as np\n",
        "import numpy as np\n",
        "import pandas as pd\n",
        "import os\n",
        "from glob import glob\n",
        "import matplotlib.pyplot as plt\n",
        "import cv2\n",
        "from keras.preprocessing.image import ImageDataGenerator\n",
        "from torchvision import transforms,datasets,models\n",
        "from torch.utils.data import Dataset,DataLoader\n",
        "from PIL import Image\n",
        "from matplotlib import cm\n",
        "import torch.nn as nn\n",
        "import torch.nn.functional as F\n",
        "import torch.optim as optim\n",
        "from tqdm import tqdm\n",
        "import matplotlib.pyplot as plt\n",
        "from random import shuffle\n"
      ],
      "execution_count": 3,
      "outputs": [
        {
          "output_type": "stream",
          "text": [
            "Using TensorFlow backend.\n"
          ],
          "name": "stderr"
        }
      ]
    },
    {
      "metadata": {
        "id": "uv6ErpTD9mjZ",
        "colab_type": "code",
        "colab": {}
      },
      "cell_type": "code",
      "source": [
        "# workaround \n",
        "#this workaround is unnecessary if no error is shown on using PIL library\n",
        "!pip install -U pillow\n",
        "from PIL import Image\n",
        "def register_extension(id, extension): \n",
        "  #Image.EXTENSION[extension.lower()] = id.upper()\n",
        "  for i in range(len(extension)):\n",
        "    Image.EXTENSION[extension[i].lower()]=id.upper()\n",
        "Image.register_extension = register_extension\n",
        "def register_extensions(id, extensions): \n",
        "  for extension in extensions: register_extension(id, extension)\n",
        "Image.register_extensions = register_extension"
      ],
      "execution_count": 0,
      "outputs": []
    },
    {
      "metadata": {
        "id": "Hu6IMZL0JW0H",
        "colab_type": "code",
        "colab": {}
      },
      "cell_type": "code",
      "source": [
        "!kaggle datasets download -d smeschke/four-shapes"
      ],
      "execution_count": 0,
      "outputs": []
    },
    {
      "metadata": {
        "id": "aSqV7qmVJzF8",
        "colab_type": "code",
        "colab": {}
      },
      "cell_type": "code",
      "source": [
        "!unzip four-shapes.zip"
      ],
      "execution_count": 0,
      "outputs": []
    },
    {
      "metadata": {
        "id": "NtXKnoHVKNmx",
        "colab_type": "code",
        "colab": {}
      },
      "cell_type": "code",
      "source": [
        "\n",
        "!unzip shapes.zip\n"
      ],
      "execution_count": 0,
      "outputs": []
    },
    {
      "metadata": {
        "id": "gN0KeaQdQKDR",
        "colab_type": "code",
        "outputId": "765a6446-3138-41e9-af28-a852af6dbb6d",
        "colab": {
          "base_uri": "https://localhost:8080/",
          "height": 34
        }
      },
      "cell_type": "code",
      "source": [
        "#fetching the image addresses \n",
        "#we will instantaneously read iamges tos ave cache space\n",
        "\n",
        "imageset={x:glob(os.path.join(x,\"*.png\")) for x in [\"circle\",\"square\",\"star\",\"triangle\"]}\n",
        "\n",
        "\n",
        "print(\"No Of datapoints of Cirlce:{},Triangle:{},square:{},star:{}\".format(len(imageset[\"circle\"]),len(imageset[\"triangle\"]),len(imageset[\"square\"]),len(imageset[\"star\"])))\n"
      ],
      "execution_count": 5,
      "outputs": [
        {
          "output_type": "stream",
          "text": [
            "No Of datapoints of Cirlce:3720,Triangle:3720,square:3765,star:3765\n"
          ],
          "name": "stdout"
        }
      ]
    },
    {
      "metadata": {
        "id": "SzYq4Oc7Lhnq",
        "colab_type": "code",
        "colab": {}
      },
      "cell_type": "code",
      "source": [
        "def display_images(imageset,figure,idx):\n",
        "  img=plt.imread(imageset[figure][idx])\n",
        "  plt.figure()\n",
        "  plt.title(figure)\n",
        "  plt.imshow(img)"
      ],
      "execution_count": 0,
      "outputs": []
    },
    {
      "metadata": {
        "id": "Ht48Dc8uS3t3",
        "colab_type": "code",
        "colab": {}
      },
      "cell_type": "code",
      "source": [
        "labellist=[\"circle\",\"star\",\"square\",\"triangle\"]  #A list of our classes"
      ],
      "execution_count": 0,
      "outputs": []
    },
    {
      "metadata": {
        "id": "aaHr_RLKVD-6",
        "colab_type": "code",
        "outputId": "3fd6118d-5c63-4770-eae7-45054ecd8013",
        "colab": {
          "base_uri": "https://localhost:8080/",
          "height": 52
        }
      },
      "cell_type": "code",
      "source": [
        "\n",
        "\n",
        "trainimages,trainlabels,testimages,testlabels=[],[],[],[]\n",
        "train_percent,to_train=.8,0  #For each class, 80% of the images will be usd for training and the rest for evaluation\n",
        "\n",
        "for shape in [\"circle\",\"star\",\"square\",\"triangle\"]:\n",
        "  to_train=train_percent*len(imageset[shape])\n",
        "  current_shape=imageset[shape]\n",
        "  current_shape=shuffle(current_shape)  #we shuffle to increase generalization\n",
        "   \n",
        "  for i in range(len(imageset[shape])):\n",
        "    \n",
        "    if i<= to_train:\n",
        "      \n",
        "      trainimages.append(imageset[shape][i])\n",
        "      trainlabels.append(shape)\n",
        "    else:\n",
        "      testimages.append(imageset[shape][i])\n",
        "      testlabels.append(shape)\n",
        "      \n",
        "      \n",
        "print(\"Size of trainset:{}\".format(len(trainimages)))\n",
        "print(\"Size of testset:{}\".format(len(testimages)))\n",
        "\n"
      ],
      "execution_count": 8,
      "outputs": [
        {
          "output_type": "stream",
          "text": [
            "Size of trainset:11980\n",
            "Size of testset:2990\n"
          ],
          "name": "stdout"
        }
      ]
    },
    {
      "metadata": {
        "id": "63FxrjsWzvWA",
        "colab_type": "code",
        "colab": {}
      },
      "cell_type": "code",
      "source": [
        "traindataframe=pd.DataFrame({\"image_name\":trainimages,\n",
        "                            \"label\":trainlabels\n",
        "    \n",
        "})\n",
        "\n",
        "testdataframe=pd.DataFrame({\"image_name\":testimages,\n",
        "                           \"label\":testlabels\n",
        "                            \n",
        "})\n",
        "\n",
        "\n",
        "traindataframe=traindataframe.sample(frac=1).reset_index(drop=True)\n",
        "testdataframe=testdataframe.sample(frac=1).reset_index(drop=True)\n"
      ],
      "execution_count": 0,
      "outputs": []
    },
    {
      "metadata": {
        "id": "N1Rd_BHz0jfM",
        "colab_type": "code",
        "colab": {}
      },
      "cell_type": "code",
      "source": [
        "class create_dataset(Dataset):\n",
        "  \n",
        "  def __init__(self,dataframe,transform):\n",
        "    self.df=dataframe\n",
        "    self.transform=transform\n",
        "    \n",
        "  def __len__(self):\n",
        "    return len(self.df)\n",
        "  \n",
        "  def __getitem__(self, idx):\n",
        "    img=self.df[\"image_name\"].iloc[idx]\n",
        "    label=self.df[\"label\"].iloc[idx]\n",
        "    img=Image.open(img)\n",
        "    img=self.transform(img)\n",
        "    label=np.asarray(labellist.index(label))     \n",
        "    label=torch.as_tensor(label) #We are not one hot encoding because we want to Cross Entropy loss\n",
        "                                    \n",
        "      \n",
        "    return img,label\n",
        "  \n",
        "    \n",
        "    \n",
        "    \n",
        "    \n",
        "    \n",
        "    \n",
        "    \n",
        "  "
      ],
      "execution_count": 0,
      "outputs": []
    },
    {
      "metadata": {
        "id": "2OR9IGsU1sOG",
        "colab_type": "code",
        "colab": {}
      },
      "cell_type": "code",
      "source": [
        "tsfm_forimages=transforms.Compose([transforms.Resize((28,28)),\n",
        "                                   transforms.ToTensor(),\n",
        "                                   transforms.Normalize([0.485, 0.456, 0.406], [0.229, 0.224, 0.225])\n",
        "                                   \n",
        "                                   \n",
        "    \n",
        "]\n",
        ")\n",
        "\n",
        "traindataset=create_dataset(traindataframe,tsfm_forimages)\n",
        "testdataset=create_dataset(testdataframe,tsfm_forimages)\n",
        "    \n"
      ],
      "execution_count": 0,
      "outputs": []
    },
    {
      "metadata": {
        "id": "NgvhxcRS6pTL",
        "colab_type": "code",
        "colab": {}
      },
      "cell_type": "code",
      "source": [
        "batchsize=16\n",
        "trainloader=DataLoader(dataset=traindataset,shuffle=True,batch_size=batchsize,num_workers=0)\n",
        "testloader=DataLoader(dataset=testdataset,shuffle=True,batch_size=batchsize,num_workers=0)\n"
      ],
      "execution_count": 0,
      "outputs": []
    },
    {
      "metadata": {
        "id": "fy91QyYkRivY",
        "colab_type": "code",
        "colab": {}
      },
      "cell_type": "code",
      "source": [
        "class CNN_classifier(nn.Module):  #we define the model here\n",
        "  \n",
        "  def __init__(self):\n",
        "    super(CNN_classifier,self).__init__()\n",
        "    self.conv1=nn.Conv2d(1,6,5,1)\n",
        "    #>>Maxpool Goes in here\n",
        "    self.conv2=nn.Conv2d(6,16,5,1)\n",
        "    #>>Maxpool Goes in here\n",
        "    self.fc1=nn.Linear(256,128)\n",
        "    self.fc2=nn.Linear(128,64)\n",
        "    self.fc3=nn.Linear(64,4)\n",
        "    \n",
        "  def __call__(self,x):\n",
        "    x=F.relu(self.conv1(x))\n",
        "    x=F.max_pool2d(x,2,2)\n",
        "    x=F.relu(self.conv2(x))\n",
        "    x=F.max_pool2d(x,2,2)\n",
        "    x=x.view(x.size(0),-1)\n",
        "    x=F.relu(self.fc1(x))\n",
        "    x=F.relu(self.fc2(x))\n",
        "    x=F.relu(self.fc3(x))\n",
        "    return x\n",
        "  \n",
        "    \n",
        " "
      ],
      "execution_count": 0,
      "outputs": []
    },
    {
      "metadata": {
        "id": "Uk0Cf_6GRrKW",
        "colab_type": "code",
        "outputId": "da294cc7-b06a-48a4-af10-25999131a08f",
        "colab": {
          "base_uri": "https://localhost:8080/",
          "height": 34
        }
      },
      "cell_type": "code",
      "source": [
        "\n",
        "if torch.cuda.is_available()==True:\n",
        "  device=\"cuda:0\"\n",
        "else:\n",
        "  device=\"cpu\"\n",
        "print(\"Device being used:\",device)\n",
        "  \n",
        "  \n",
        "model=CNN_classifier()\n",
        "model=model.to(device)\n",
        "criterion=nn.CrossEntropyLoss()\n",
        "optimizer=optim.SGD(model.parameters(),lr=.006,momentum=.9,weight_decay=1e-4)\n"
      ],
      "execution_count": 34,
      "outputs": [
        {
          "output_type": "stream",
          "text": [
            "Device being used: cuda:0\n"
          ],
          "name": "stdout"
        }
      ]
    },
    {
      "metadata": {
        "id": "qKH-zf4eTO77",
        "colab_type": "code",
        "colab": {
          "base_uri": "https://localhost:8080/",
          "height": 545
        },
        "outputId": "9ec9effa-cda3-459b-8b96-59d38f8013c6"
      },
      "cell_type": "code",
      "source": [
        "#here we train the model\n",
        "\n",
        "m=len((trainloader))\n",
        "n=len(testloader)\n",
        "epochs=30\n",
        "epochloss=list() #loss recorded per epoch is stored here\n",
        "\n",
        "\n",
        "for epoch in range(epochs):\n",
        "  batchloss_epoch=0.0\n",
        "  \n",
        "  for batchid,(x,y) in enumerate(trainloader):\n",
        "    x,y=x.to(device),y.to(device)\n",
        "    optimizer.zero_grad()\n",
        "    out=model(x)\n",
        "    \n",
        "    loss=criterion(out,y)\n",
        "    batchloss_epoch+=loss.item()\n",
        "          \n",
        "    loss.backward()\n",
        "    optimizer.step()\n",
        "    \n",
        "  print(\"Loss For  epoch {}: {}\".format(epoch,batchloss_epoch/m))\n",
        "  epochloss.append(batchloss_epoch/m)\n",
        "  \n",
        "  \n",
        "    \n"
      ],
      "execution_count": 35,
      "outputs": [
        {
          "output_type": "stream",
          "text": [
            "Loss For this epoch0:0.21870893420356555\n",
            "Loss For this epoch1:0.0008927306494267113\n",
            "Loss For this epoch2:0.00013191812983819734\n",
            "Loss For this epoch3:7.836559798330838e-05\n",
            "Loss For this epoch4:6.612627358931659e-05\n",
            "Loss For this epoch5:5.8372072712621246e-05\n",
            "Loss For this epoch6:5.046826338417858e-05\n",
            "Loss For this epoch7:4.7909269134217325e-05\n",
            "Loss For this epoch8:4.695400323790419e-05\n",
            "Loss For this epoch9:4.309734133120691e-05\n",
            "Loss For this epoch10:4.331835864350032e-05\n",
            "Loss For this epoch11:4.145820033753235e-05\n",
            "Loss For this epoch12:4.457727134307332e-05\n",
            "Loss For this epoch13:4.1667758278260474e-05\n",
            "Loss For this epoch14:4.222589861276359e-05\n",
            "Loss For this epoch15:4.1980981085664255e-05\n",
            "Loss For this epoch16:4.0671986689376014e-05\n",
            "Loss For this epoch17:4.0525481814834635e-05\n",
            "Loss For this epoch18:4.078016102871048e-05\n",
            "Loss For this epoch19:4.033719798367499e-05\n",
            "Loss For this epoch20:4.0926321060260735e-05\n",
            "Loss For this epoch21:4.1018367396833984e-05\n",
            "Loss For this epoch22:4.016053268018919e-05\n",
            "Loss For this epoch23:4.043165821390048e-05\n",
            "Loss For this epoch24:4.09165859006154e-05\n",
            "Loss For this epoch25:4.088748652656127e-05\n",
            "Loss For this epoch26:4.101383139704399e-05\n",
            "Loss For this epoch27:4.127057966400951e-05\n",
            "Loss For this epoch28:4.1965940658853126e-05\n",
            "Loss For this epoch29:4.167619364794198e-05\n"
          ],
          "name": "stdout"
        }
      ]
    },
    {
      "metadata": {
        "id": "r9SkoqJbcKoP",
        "colab_type": "code",
        "colab": {
          "base_uri": "https://localhost:8080/",
          "height": 365
        },
        "outputId": "5a54b793-e19f-43a4-e354-c1a41a210c89"
      },
      "cell_type": "code",
      "source": [
        "plt.plot(epochloss,range(epochs))"
      ],
      "execution_count": 36,
      "outputs": [
        {
          "output_type": "execute_result",
          "data": {
            "text/plain": [
              "[<matplotlib.lines.Line2D at 0x7ff5d2344fd0>]"
            ]
          },
          "metadata": {
            "tags": []
          },
          "execution_count": 36
        },
        {
          "output_type": "display_data",
          "data": {
            "image/png": "[encoded data removed]",
            "text/plain": [
              "<matplotlib.figure.Figure at 0x7ff5d2396cf8>"
            ]
          },
          "metadata": {
            "tags": []
          }
        }
      ]
    },
    {
      "metadata": {
        "id": "ZPP4BpiEgEBZ",
        "colab_type": "code",
        "colab": {
          "base_uri": "https://localhost:8080/",
          "height": 3693
        },
        "outputId": "a5c890c7-6e7d-4ed2-9be5-dd98e6d18d4c"
      },
      "cell_type": "code",
      "source": [
        "#now we test the model\n",
        "\n",
        "with torch.no_grad():\n",
        "  optimizer.zero_grad()\n",
        "  correct=0\n",
        "  total=0\n",
        "  \n",
        "  batchloss=list() #we store the loss per batch in this list\n",
        "  \n",
        "  for batchid,(xtest,ytest) in enumerate(testloader):\n",
        "    \n",
        "    xtest,ytest=xtest.to(device),ytest.to(device)\n",
        "          \n",
        "    pred=model(xtest)\n",
        "    \n",
        "    _,prediction=torch.max(pred.data,1)\n",
        "    loss=criterion(pred,ytest)\n",
        "    \n",
        "    batchloss.append(loss.item())\n",
        "    \n",
        "    total+=ytest.size(0)\n",
        "    correct+=(prediction==ytest).sum().item()\n",
        "    print(\"Label:{},Predicted:{},Loss:{}\".format(ytest,prediction,loss.item()))\n",
        "    \n",
        "  \n",
        "\n",
        "\n",
        " \n",
        "    \n",
        "    \n",
        "  \n"
      ],
      "execution_count": 40,
      "outputs": [
        {
          "output_type": "stream",
          "text": [
            "Label:tensor([3, 1, 1, 0, 0, 3, 2, 1, 2, 0, 2, 1, 3, 3, 0, 3], device='cuda:0'),Predicted:tensor([3, 1, 1, 0, 0, 3, 2, 1, 2, 0, 2, 1, 3, 3, 0, 3], device='cuda:0'),Loss:2.09808349609375e-05\n",
            "Label:tensor([1, 1, 0, 1, 3, 3, 2, 0, 2, 0, 3, 0, 3, 0, 0, 2], device='cuda:0'),Predicted:tensor([1, 1, 0, 1, 3, 3, 2, 0, 2, 0, 3, 0, 3, 0, 0, 2], device='cuda:0'),Loss:6.198883056640625e-06\n",
            "Label:tensor([1, 3, 1, 2, 1, 0, 3, 3, 3, 0, 3, 1, 0, 2, 1, 0], device='cuda:0'),Predicted:tensor([1, 3, 1, 2, 1, 0, 3, 3, 3, 0, 3, 1, 0, 2, 1, 0], device='cuda:0'),Loss:1.0848045349121094e-05\n",
            "Label:tensor([2, 0, 3, 0, 2, 3, 0, 0, 3, 1, 0, 0, 3, 0, 3, 0], device='cuda:0'),Predicted:tensor([2, 0, 3, 0, 2, 3, 0, 0, 3, 1, 0, 0, 3, 0, 3, 0], device='cuda:0'),Loss:1.6450881958007812e-05\n",
            "Label:tensor([3, 0, 0, 2, 1, 0, 3, 2, 1, 1, 3, 3, 1, 0, 2, 1], device='cuda:0'),Predicted:tensor([3, 0, 0, 2, 1, 0, 3, 2, 1, 1, 3, 3, 1, 0, 2, 1], device='cuda:0'),Loss:3.159046173095703e-05\n",
            "Label:tensor([1, 3, 2, 3, 3, 0, 1, 2, 0, 0, 3, 1, 3, 0, 0, 3], device='cuda:0'),Predicted:tensor([1, 3, 2, 3, 3, 0, 1, 2, 0, 0, 3, 1, 3, 0, 0, 3], device='cuda:0'),Loss:1.7642974853515625e-05\n",
            "Label:tensor([0, 3, 3, 2, 1, 2, 2, 2, 0, 1, 0, 0, 0, 0, 2, 2], device='cuda:0'),Predicted:tensor([0, 3, 3, 2, 1, 2, 2, 2, 0, 1, 0, 0, 0, 0, 2, 2], device='cuda:0'),Loss:1.8477439880371094e-05\n",
            "Label:tensor([3, 3, 3, 0, 0, 0, 0, 2, 1, 0, 2, 0, 1, 0, 2, 0], device='cuda:0'),Predicted:tensor([3, 3, 3, 0, 0, 0, 0, 2, 1, 0, 2, 0, 1, 0, 2, 0], device='cuda:0'),Loss:4.208087921142578e-05\n",
            "Label:tensor([0, 2, 0, 0, 0, 0, 0, 2, 1, 2, 2, 2, 0, 2, 0, 1], device='cuda:0'),Predicted:tensor([0, 2, 0, 0, 0, 0, 0, 2, 1, 2, 2, 2, 0, 2, 0, 1], device='cuda:0'),Loss:1.0609626770019531e-05\n",
            "Label:tensor([3, 3, 2, 0, 3, 2, 3, 3, 3, 2, 1, 1, 2, 2, 3, 2], device='cuda:0'),Predicted:tensor([3, 3, 2, 0, 3, 2, 3, 3, 3, 2, 1, 1, 2, 2, 3, 2], device='cuda:0'),Loss:2.8073787689208984e-05\n",
            "Label:tensor([3, 3, 0, 3, 3, 0, 1, 3, 2, 3, 1, 3, 2, 0, 0, 1], device='cuda:0'),Predicted:tensor([3, 3, 0, 3, 3, 0, 1, 3, 2, 3, 1, 3, 2, 0, 0, 1], device='cuda:0'),Loss:0.0004533529281616211\n",
            "Label:tensor([2, 0, 0, 3, 2, 2, 1, 2, 1, 1, 2, 2, 0, 3, 0, 2], device='cuda:0'),Predicted:tensor([2, 0, 0, 3, 2, 2, 1, 2, 1, 1, 2, 2, 0, 3, 0, 2], device='cuda:0'),Loss:2.6881694793701172e-05\n",
            "Label:tensor([3, 2, 3, 1, 2, 1, 1, 1, 1, 1, 2, 1, 1, 0, 2, 2], device='cuda:0'),Predicted:tensor([3, 2, 3, 1, 2, 1, 1, 1, 1, 1, 2, 1, 1, 0, 2, 2], device='cuda:0'),Loss:3.361701965332031e-05\n",
            "Label:tensor([1, 2, 2, 1, 3, 1, 1, 1, 3, 1, 1, 3, 1, 1, 3, 3], device='cuda:0'),Predicted:tensor([1, 2, 2, 1, 3, 1, 1, 1, 3, 1, 1, 3, 1, 1, 3, 3], device='cuda:0'),Loss:1.6927719116210938e-05\n",
            "Label:tensor([0, 3, 3, 0, 0, 0, 1, 0, 2, 3, 0, 0, 1, 2, 0, 3], device='cuda:0'),Predicted:tensor([0, 3, 3, 0, 0, 0, 1, 0, 2, 3, 0, 0, 1, 2, 0, 3], device='cuda:0'),Loss:1.1265277862548828e-05\n",
            "Label:tensor([1, 0, 0, 2, 3, 2, 2, 3, 0, 0, 0, 3, 0, 0, 0, 1], device='cuda:0'),Predicted:tensor([1, 0, 0, 2, 3, 2, 2, 3, 0, 0, 0, 3, 0, 0, 0, 1], device='cuda:0'),Loss:0.00019872188568115234\n",
            "Label:tensor([2, 0, 2, 3, 3, 3, 0, 0, 1, 3, 1, 2, 2, 2, 3, 0], device='cuda:0'),Predicted:tensor([2, 0, 2, 3, 3, 3, 0, 0, 1, 3, 1, 2, 2, 2, 3, 0], device='cuda:0'),Loss:4.3332576751708984e-05\n",
            "Label:tensor([2, 0, 0, 1, 1, 0, 2, 1, 3, 1, 0, 1, 1, 0, 1, 1], device='cuda:0'),Predicted:tensor([2, 0, 0, 1, 1, 0, 2, 1, 3, 1, 0, 1, 1, 0, 1, 1], device='cuda:0'),Loss:1.1920928955078125e-05\n",
            "Label:tensor([2, 2, 2, 2, 0, 2, 3, 2, 2, 1, 2, 2, 0, 3, 1, 1], device='cuda:0'),Predicted:tensor([2, 2, 2, 2, 0, 2, 3, 2, 2, 1, 2, 2, 0, 3, 1, 1], device='cuda:0'),Loss:3.266334533691406e-05\n",
            "Label:tensor([2, 3, 1, 1, 1, 0, 2, 2, 3, 3, 3, 0, 2, 0, 3, 1], device='cuda:0'),Predicted:tensor([2, 3, 1, 1, 1, 0, 2, 2, 3, 3, 3, 0, 2, 0, 3, 1], device='cuda:0'),Loss:3.540515899658203e-05\n",
            "Label:tensor([2, 3, 3, 2, 0, 0, 1, 2, 3, 3, 1, 3, 1, 2, 3, 2], device='cuda:0'),Predicted:tensor([2, 3, 3, 2, 0, 0, 1, 2, 3, 3, 1, 3, 1, 2, 3, 2], device='cuda:0'),Loss:2.7179718017578125e-05\n",
            "Label:tensor([1, 1, 3, 3, 2, 2, 1, 0, 2, 3, 0, 2, 0, 2, 3, 0], device='cuda:0'),Predicted:tensor([1, 1, 3, 3, 2, 2, 1, 0, 2, 3, 0, 2, 0, 2, 3, 0], device='cuda:0'),Loss:2.8848648071289062e-05\n",
            "Label:tensor([2, 1, 2, 0, 1, 2, 3, 0, 3, 3, 2, 2, 0, 3, 0, 3], device='cuda:0'),Predicted:tensor([2, 1, 2, 0, 1, 2, 3, 0, 3, 3, 2, 2, 0, 3, 0, 3], device='cuda:0'),Loss:4.7147274017333984e-05\n",
            "Label:tensor([1, 3, 2, 2, 1, 0, 2, 0, 1, 1, 2, 1, 3, 1, 3, 1], device='cuda:0'),Predicted:tensor([1, 3, 2, 2, 1, 0, 2, 0, 1, 1, 2, 1, 3, 1, 3, 1], device='cuda:0'),Loss:5.7697296142578125e-05\n",
            "Label:tensor([2, 3, 3, 1, 2, 3, 0, 2, 3, 1, 0, 2, 3, 2, 3, 3], device='cuda:0'),Predicted:tensor([2, 3, 3, 1, 2, 3, 0, 2, 3, 1, 0, 2, 3, 2, 3, 3], device='cuda:0'),Loss:7.790327072143555e-05\n",
            "Label:tensor([0, 1, 1, 2, 1, 1, 3, 2, 0, 2, 2, 1, 0, 1, 0, 2], device='cuda:0'),Predicted:tensor([0, 1, 1, 2, 1, 1, 3, 2, 0, 2, 2, 1, 0, 1, 0, 2], device='cuda:0'),Loss:2.5272369384765625e-05\n",
            "Label:tensor([0, 0, 0, 1, 0, 0, 3, 0, 3, 2, 3, 2, 0, 2, 0, 0], device='cuda:0'),Predicted:tensor([0, 0, 0, 1, 0, 0, 3, 0, 3, 2, 3, 2, 0, 2, 0, 0], device='cuda:0'),Loss:7.033348083496094e-06\n",
            "Label:tensor([0, 1, 1, 3, 3, 2, 1, 0, 2, 3, 0, 2, 3, 1, 1, 0], device='cuda:0'),Predicted:tensor([0, 1, 1, 3, 3, 2, 1, 0, 2, 3, 0, 2, 3, 1, 1, 0], device='cuda:0'),Loss:6.651878356933594e-05\n",
            "Label:tensor([2, 3, 0, 1, 1, 1, 2, 2, 0, 3, 2, 3, 2, 2, 1, 3], device='cuda:0'),Predicted:tensor([2, 3, 0, 1, 1, 1, 2, 2, 0, 3, 2, 3, 2, 2, 1, 3], device='cuda:0'),Loss:6.091594696044922e-05\n",
            "Label:tensor([3, 3, 1, 1, 1, 1, 3, 0, 3, 1, 2, 2, 1, 1, 3, 2], device='cuda:0'),Predicted:tensor([3, 3, 1, 1, 1, 1, 3, 0, 3, 1, 2, 2, 1, 1, 3, 2], device='cuda:0'),Loss:1.800060272216797e-05\n",
            "Label:tensor([3, 0, 3, 2, 1, 3, 1, 0, 3, 3, 3, 2, 3, 2, 1, 2], device='cuda:0'),Predicted:tensor([3, 0, 3, 2, 1, 3, 1, 0, 3, 3, 3, 2, 3, 2, 1, 2], device='cuda:0'),Loss:3.3974647521972656e-05\n",
            "Label:tensor([2, 0, 0, 1, 1, 1, 3, 1, 0, 1, 2, 2, 3, 1, 2, 0], device='cuda:0'),Predicted:tensor([2, 0, 0, 1, 1, 1, 3, 1, 0, 1, 2, 2, 3, 1, 2, 0], device='cuda:0'),Loss:1.4424324035644531e-05\n",
            "Label:tensor([0, 1, 1, 3, 3, 0, 2, 2, 3, 1, 1, 2, 0, 0, 0, 2], device='cuda:0'),Predicted:tensor([0, 1, 1, 3, 3, 0, 2, 2, 3, 1, 1, 2, 0, 0, 0, 2], device='cuda:0'),Loss:1.3649463653564453e-05\n",
            "Label:tensor([1, 2, 3, 2, 0, 1, 1, 1, 3, 0, 2, 1, 3, 3, 1, 0], device='cuda:0'),Predicted:tensor([1, 2, 3, 2, 0, 1, 1, 1, 3, 0, 2, 1, 3, 3, 1, 0], device='cuda:0'),Loss:9.059906005859375e-06\n",
            "Label:tensor([0, 3, 1, 2, 1, 0, 2, 0, 0, 1, 3, 1, 3, 1, 2, 0], device='cuda:0'),Predicted:tensor([0, 3, 1, 2, 1, 0, 2, 0, 0, 1, 3, 1, 3, 1, 2, 0], device='cuda:0'),Loss:1.4066696166992188e-05\n",
            "Label:tensor([2, 1, 2, 1, 2, 2, 1, 3, 2, 3, 0, 1, 2, 0, 2, 3], device='cuda:0'),Predicted:tensor([2, 1, 2, 1, 2, 2, 1, 3, 2, 3, 0, 1, 2, 0, 2, 3], device='cuda:0'),Loss:2.372264862060547e-05\n",
            "Label:tensor([3, 1, 2, 3, 2, 2, 1, 0, 0, 3, 2, 0, 0, 1, 2, 1], device='cuda:0'),Predicted:tensor([3, 1, 2, 3, 2, 2, 1, 0, 0, 3, 2, 0, 0, 1, 2, 1], device='cuda:0'),Loss:3.165006637573242e-05\n",
            "Label:tensor([0, 1, 0, 2, 0, 1, 1, 2, 0, 2, 1, 0, 1, 0, 2, 3], device='cuda:0'),Predicted:tensor([0, 1, 0, 2, 0, 1, 1, 2, 0, 2, 1, 0, 1, 0, 2, 3], device='cuda:0'),Loss:1.5914440155029297e-05\n",
            "Label:tensor([1, 1, 3, 0, 3, 1, 3, 2, 0, 0, 2, 0, 1, 2, 3, 1], device='cuda:0'),Predicted:tensor([1, 1, 3, 0, 3, 1, 3, 2, 0, 0, 2, 0, 1, 2, 3, 1], device='cuda:0'),Loss:2.300739288330078e-05\n",
            "Label:tensor([3, 2, 2, 1, 0, 2, 0, 2, 2, 2, 2, 1, 0, 0, 3, 0], device='cuda:0'),Predicted:tensor([3, 2, 2, 1, 0, 2, 0, 2, 2, 2, 2, 1, 0, 0, 3, 0], device='cuda:0'),Loss:6.914138793945312e-05\n",
            "Label:tensor([3, 3, 3, 3, 0, 1, 3, 0, 2, 0, 0, 0, 1, 0, 3, 0], device='cuda:0'),Predicted:tensor([3, 3, 3, 3, 0, 1, 3, 0, 2, 0, 0, 0, 1, 0, 3, 0], device='cuda:0'),Loss:1.5616416931152344e-05\n",
            "Label:tensor([0, 1, 2, 0, 3, 0, 0, 1, 1, 3, 2, 3, 2, 3, 3, 2], device='cuda:0'),Predicted:tensor([0, 1, 2, 0, 3, 0, 0, 1, 1, 3, 2, 3, 2, 3, 3, 2], device='cuda:0'),Loss:3.0279159545898438e-05\n",
            "Label:tensor([0, 1, 3, 0, 3, 1, 0, 2, 3, 0, 1, 1, 2, 0, 2, 0], device='cuda:0'),Predicted:tensor([0, 1, 3, 0, 3, 1, 0, 2, 3, 0, 1, 1, 2, 0, 2, 0], device='cuda:0'),Loss:1.2755393981933594e-05\n",
            "Label:tensor([0, 3, 1, 2, 0, 0, 2, 0, 3, 0, 2, 2, 2, 2, 2, 3], device='cuda:0'),Predicted:tensor([0, 3, 1, 2, 0, 0, 2, 0, 3, 0, 2, 2, 2, 2, 2, 3], device='cuda:0'),Loss:2.1755695343017578e-05\n",
            "Label:tensor([0, 3, 3, 2, 1, 0, 3, 1, 1, 0, 1, 3, 1, 3, 2, 1], device='cuda:0'),Predicted:tensor([0, 3, 3, 2, 1, 0, 3, 1, 1, 0, 1, 3, 1, 3, 2, 1], device='cuda:0'),Loss:2.9921531677246094e-05\n",
            "Label:tensor([0, 1, 1, 2, 3, 1, 0, 2, 3, 3, 1, 2, 1, 0, 2, 2], device='cuda:0'),Predicted:tensor([0, 1, 1, 2, 3, 1, 0, 2, 3, 3, 1, 2, 1, 0, 2, 2], device='cuda:0'),Loss:4.601478576660156e-05\n",
            "Label:tensor([3, 1, 0, 2, 2, 3, 1, 0, 2, 3, 2, 2, 1, 3, 2, 3], device='cuda:0'),Predicted:tensor([3, 1, 0, 2, 2, 3, 1, 0, 2, 3, 2, 2, 1, 3, 2, 3], device='cuda:0'),Loss:2.568960189819336e-05\n",
            "Label:tensor([0, 3, 1, 1, 0, 1, 2, 2, 2, 0, 1, 3, 1, 2, 2, 2], device='cuda:0'),Predicted:tensor([0, 3, 1, 1, 0, 1, 2, 2, 2, 0, 1, 3, 1, 2, 2, 2], device='cuda:0'),Loss:3.1054019927978516e-05\n",
            "Label:tensor([1, 3, 3, 2, 3, 2, 1, 1, 0, 1, 0, 1, 0, 1, 1, 0], device='cuda:0'),Predicted:tensor([1, 3, 3, 2, 3, 2, 1, 1, 0, 1, 0, 1, 0, 1, 1, 0], device='cuda:0'),Loss:7.212162017822266e-06\n",
            "Label:tensor([1, 3, 1, 0, 2, 1, 3, 1, 1, 3, 2, 3, 3, 2, 3, 0], device='cuda:0'),Predicted:tensor([1, 3, 1, 0, 2, 1, 3, 1, 1, 3, 2, 3, 3, 2, 3, 0], device='cuda:0'),Loss:9.059906005859375e-06\n",
            "Label:tensor([0, 3, 2, 3, 1, 3, 1, 2, 1, 2, 3, 0, 2, 1, 0, 3], device='cuda:0'),Predicted:tensor([0, 3, 2, 3, 1, 3, 1, 2, 1, 2, 3, 0, 2, 1, 0, 3], device='cuda:0'),Loss:2.1457672119140625e-05\n",
            "Label:tensor([0, 1, 0, 3, 0, 3, 0, 3, 2, 1, 2, 1, 2, 2, 3, 2], device='cuda:0'),Predicted:tensor([0, 1, 0, 3, 0, 3, 0, 3, 2, 1, 2, 1, 2, 2, 3, 2], device='cuda:0'),Loss:2.104043960571289e-05\n",
            "Label:tensor([1, 3, 0, 2, 0, 3, 1, 2, 3, 0, 1, 2, 1, 0, 2, 3], device='cuda:0'),Predicted:tensor([1, 3, 0, 2, 0, 3, 1, 2, 3, 0, 1, 2, 1, 0, 2, 3], device='cuda:0'),Loss:2.849102020263672e-05\n",
            "Label:tensor([1, 0, 1, 1, 1, 2, 2, 0, 3, 0, 0, 1, 1, 0, 0, 1], device='cuda:0'),Predicted:tensor([1, 0, 1, 1, 1, 2, 2, 0, 3, 0, 0, 1, 1, 0, 0, 1], device='cuda:0'),Loss:1.811981201171875e-05\n",
            "Label:tensor([0, 1, 0, 1, 2, 3, 1, 3, 0, 0, 1, 3, 1, 0, 1, 2], device='cuda:0'),Predicted:tensor([0, 1, 0, 1, 2, 3, 1, 3, 0, 0, 1, 3, 1, 0, 1, 2], device='cuda:0'),Loss:1.3232231140136719e-05\n",
            "Label:tensor([1, 1, 1, 1, 3, 3, 1, 1, 1, 0, 0, 1, 1, 3, 0, 3], device='cuda:0'),Predicted:tensor([1, 1, 1, 1, 3, 3, 1, 1, 1, 0, 0, 1, 1, 3, 0, 3], device='cuda:0'),Loss:3.635883331298828e-05\n",
            "Label:tensor([2, 1, 2, 1, 2, 0, 2, 0, 3, 2, 0, 0, 2, 1, 0, 0], device='cuda:0'),Predicted:tensor([2, 1, 2, 1, 2, 0, 2, 0, 3, 2, 0, 0, 2, 1, 0, 0], device='cuda:0'),Loss:2.2649765014648438e-05\n",
            "Label:tensor([1, 2, 0, 2, 2, 2, 0, 3, 2, 2, 3, 2, 1, 1, 2, 3], device='cuda:0'),Predicted:tensor([1, 2, 0, 2, 2, 2, 0, 3, 2, 2, 3, 2, 1, 1, 2, 3], device='cuda:0'),Loss:0.00010985136032104492\n",
            "Label:tensor([2, 0, 3, 3, 3, 2, 2, 1, 0, 1, 2, 1, 1, 0, 0, 0], device='cuda:0'),Predicted:tensor([2, 0, 3, 3, 3, 2, 2, 1, 0, 1, 2, 1, 1, 0, 0, 0], device='cuda:0'),Loss:2.199411392211914e-05\n",
            "Label:tensor([2, 2, 2, 3, 3, 3, 1, 2, 2, 0, 3, 3, 0, 3, 2, 1], device='cuda:0'),Predicted:tensor([2, 2, 2, 3, 3, 3, 1, 2, 2, 0, 3, 3, 0, 3, 2, 1], device='cuda:0'),Loss:1.1920928955078125e-05\n",
            "Label:tensor([2, 0, 1, 3, 0, 1, 1, 2, 3, 3, 3, 3, 1, 1, 1, 2], device='cuda:0'),Predicted:tensor([2, 0, 1, 3, 0, 1, 1, 2, 3, 3, 3, 3, 1, 1, 1, 2], device='cuda:0'),Loss:1.3053417205810547e-05\n",
            "Label:tensor([3, 3, 3, 1, 2, 1, 2, 2, 3, 0, 0, 2, 2, 1, 3, 0], device='cuda:0'),Predicted:tensor([3, 3, 3, 1, 2, 1, 2, 2, 3, 0, 0, 2, 2, 1, 3, 0], device='cuda:0'),Loss:1.436471939086914e-05\n",
            "Label:tensor([0, 1, 1, 1, 2, 1, 2, 3, 1, 0, 2, 3, 1, 3, 0, 0], device='cuda:0'),Predicted:tensor([0, 1, 1, 1, 2, 1, 2, 3, 1, 0, 2, 3, 1, 3, 0, 0], device='cuda:0'),Loss:1.1920928955078125e-05\n",
            "Label:tensor([2, 0, 3, 2, 1, 2, 1, 3, 0, 1, 3, 3, 3, 2, 0, 0], device='cuda:0'),Predicted:tensor([2, 0, 3, 2, 1, 2, 1, 3, 0, 1, 3, 3, 3, 2, 0, 0], device='cuda:0'),Loss:1.5795230865478516e-05\n",
            "Label:tensor([0, 0, 0, 1, 3, 0, 3, 1, 2, 0, 1, 1, 0, 0, 3, 1], device='cuda:0'),Predicted:tensor([0, 0, 0, 1, 3, 0, 3, 1, 2, 0, 1, 1, 0, 0, 3, 1], device='cuda:0'),Loss:9.179115295410156e-06\n",
            "Label:tensor([0, 1, 1, 1, 3, 3, 3, 3, 1, 1, 0, 2, 0, 2, 0, 2], device='cuda:0'),Predicted:tensor([0, 1, 1, 1, 3, 3, 3, 3, 1, 1, 0, 2, 0, 2, 0, 2], device='cuda:0'),Loss:7.992982864379883e-05\n",
            "Label:tensor([1, 3, 3, 3, 2, 2, 1, 0, 0, 1, 3, 2, 0, 1, 2, 3], device='cuda:0'),Predicted:tensor([1, 3, 3, 3, 2, 2, 1, 0, 0, 1, 3, 2, 0, 1, 2, 3], device='cuda:0'),Loss:1.233816146850586e-05\n",
            "Label:tensor([2, 2, 3, 2, 0, 3, 1, 2, 3, 0, 1, 0, 2, 1, 1, 2], device='cuda:0'),Predicted:tensor([2, 2, 3, 2, 0, 3, 1, 2, 3, 0, 1, 0, 2, 1, 1, 2], device='cuda:0'),Loss:1.52587890625e-05\n",
            "Label:tensor([2, 1, 2, 2, 0, 2, 3, 2, 1, 1, 0, 2, 3, 3, 2, 3], device='cuda:0'),Predicted:tensor([2, 1, 2, 2, 0, 2, 3, 2, 1, 1, 0, 2, 3, 3, 2, 3], device='cuda:0'),Loss:2.8371810913085938e-05\n",
            "Label:tensor([2, 1, 1, 0, 2, 0, 3, 2, 0, 0, 3, 3, 2, 2, 1, 0], device='cuda:0'),Predicted:tensor([2, 1, 1, 0, 2, 0, 3, 2, 0, 0, 3, 3, 2, 2, 1, 0], device='cuda:0'),Loss:3.844499588012695e-05\n",
            "Label:tensor([0, 1, 2, 0, 1, 3, 0, 0, 2, 0, 2, 3, 3, 1, 2, 1], device='cuda:0'),Predicted:tensor([0, 1, 2, 0, 1, 3, 0, 0, 2, 0, 2, 3, 3, 1, 2, 1], device='cuda:0'),Loss:2.3245811462402344e-05\n",
            "Label:tensor([2, 0, 0, 2, 3, 3, 3, 2, 2, 1, 0, 2, 0, 0, 3, 2], device='cuda:0'),Predicted:tensor([2, 0, 0, 2, 3, 3, 3, 2, 2, 1, 0, 2, 0, 0, 3, 2], device='cuda:0'),Loss:4.2438507080078125e-05\n",
            "Label:tensor([1, 3, 2, 1, 1, 3, 1, 3, 1, 1, 1, 1, 3, 0, 3, 2], device='cuda:0'),Predicted:tensor([1, 3, 2, 1, 1, 3, 1, 3, 1, 1, 1, 1, 3, 0, 3, 2], device='cuda:0'),Loss:1.609325408935547e-05\n",
            "Label:tensor([1, 1, 2, 2, 1, 2, 0, 3, 0, 0, 3, 2, 0, 3, 2, 1], device='cuda:0'),Predicted:tensor([1, 1, 2, 2, 1, 2, 0, 3, 0, 0, 3, 2, 0, 3, 2, 1], device='cuda:0'),Loss:2.09808349609375e-05\n",
            "Label:tensor([3, 3, 1, 1, 3, 1, 2, 1, 1, 2, 1, 2, 0, 0, 1, 2], device='cuda:0'),Predicted:tensor([3, 3, 1, 1, 3, 1, 2, 1, 1, 2, 1, 2, 0, 0, 1, 2], device='cuda:0'),Loss:1.537799835205078e-05\n",
            "Label:tensor([1, 1, 3, 1, 3, 2, 3, 2, 3, 2, 1, 3, 1, 2, 3, 2], device='cuda:0'),Predicted:tensor([1, 1, 3, 1, 3, 2, 3, 2, 3, 2, 1, 3, 1, 2, 3, 2], device='cuda:0'),Loss:1.6689300537109375e-05\n",
            "Label:tensor([1, 3, 1, 2, 1, 2, 1, 1, 0, 0, 2, 2, 1, 0, 2, 2], device='cuda:0'),Predicted:tensor([1, 3, 1, 2, 1, 2, 1, 1, 0, 0, 2, 2, 1, 0, 2, 2], device='cuda:0'),Loss:2.765655517578125e-05\n",
            "Label:tensor([2, 3, 3, 1, 2, 3, 3, 3, 0, 0, 3, 1, 2, 2, 3, 1], device='cuda:0'),Predicted:tensor([2, 3, 3, 1, 2, 3, 3, 3, 0, 0, 3, 1, 2, 2, 3, 1], device='cuda:0'),Loss:1.5139579772949219e-05\n",
            "Label:tensor([0, 2, 2, 3, 2, 0, 3, 2, 3, 1, 3, 0, 1, 0, 0, 3], device='cuda:0'),Predicted:tensor([0, 2, 2, 3, 2, 0, 3, 2, 3, 1, 3, 0, 1, 0, 0, 3], device='cuda:0'),Loss:2.086162567138672e-05\n",
            "Label:tensor([1, 0, 0, 0, 1, 3, 1, 2, 3, 3, 2, 3, 1, 2, 3, 2], device='cuda:0'),Predicted:tensor([1, 0, 0, 0, 1, 3, 1, 2, 3, 3, 2, 3, 1, 2, 3, 2], device='cuda:0'),Loss:2.568960189819336e-05\n",
            "Label:tensor([0, 2, 0, 0, 0, 2, 0, 3, 2, 2, 1, 1, 0, 3, 2, 0], device='cuda:0'),Predicted:tensor([0, 2, 0, 0, 0, 2, 0, 3, 2, 2, 1, 1, 0, 3, 2, 0], device='cuda:0'),Loss:2.1219253540039062e-05\n",
            "Label:tensor([1, 0, 0, 1, 0, 2, 3, 2, 3, 3, 3, 3, 0, 0, 1, 3], device='cuda:0'),Predicted:tensor([1, 0, 0, 1, 0, 2, 3, 2, 3, 3, 3, 3, 0, 0, 1, 3], device='cuda:0'),Loss:2.0623207092285156e-05\n",
            "Label:tensor([1, 2, 0, 0, 1, 3, 1, 0, 1, 2, 1, 3, 1, 0, 1, 1], device='cuda:0'),Predicted:tensor([1, 2, 0, 0, 1, 3, 1, 0, 1, 2, 1, 3, 1, 0, 1, 1], device='cuda:0'),Loss:2.586841583251953e-05\n",
            "Label:tensor([2, 1, 0, 3, 3, 1, 0, 2, 1, 0, 1, 3, 1, 3, 3, 2], device='cuda:0'),Predicted:tensor([2, 1, 0, 3, 3, 1, 0, 2, 1, 0, 1, 3, 1, 3, 3, 2], device='cuda:0'),Loss:1.7642974853515625e-05\n",
            "Label:tensor([3, 1, 0, 2, 3, 1, 1, 3, 3, 1, 1, 0, 3, 1, 0, 3], device='cuda:0'),Predicted:tensor([3, 1, 0, 2, 3, 1, 1, 3, 3, 1, 1, 0, 3, 1, 0, 3], device='cuda:0'),Loss:1.8358230590820312e-05\n",
            "Label:tensor([3, 0, 3, 2, 3, 3, 3, 1, 3, 3, 0, 0, 3, 1, 2, 3], device='cuda:0'),Predicted:tensor([3, 0, 3, 2, 3, 3, 3, 1, 3, 3, 0, 0, 3, 1, 2, 3], device='cuda:0'),Loss:3.612041473388672e-05\n",
            "Label:tensor([0, 3, 3, 2, 1, 1, 2, 0, 2, 2, 1, 1, 2, 2, 0, 1], device='cuda:0'),Predicted:tensor([0, 3, 3, 2, 1, 1, 2, 0, 2, 2, 1, 1, 2, 2, 0, 1], device='cuda:0'),Loss:4.494190216064453e-05\n",
            "Label:tensor([0, 3, 0, 1, 1, 2, 0, 2, 2, 2, 3, 3, 2, 0, 0, 0], device='cuda:0'),Predicted:tensor([0, 3, 0, 1, 1, 2, 0, 2, 2, 2, 3, 3, 2, 0, 0, 0], device='cuda:0'),Loss:1.0132789611816406e-05\n",
            "Label:tensor([2, 1, 2, 2, 2, 0, 0, 0, 0, 3, 1, 1, 2, 1, 2, 2], device='cuda:0'),Predicted:tensor([2, 1, 2, 2, 2, 0, 0, 0, 0, 3, 1, 1, 2, 1, 2, 2], device='cuda:0'),Loss:4.029273986816406e-05\n",
            "Label:tensor([3, 1, 2, 1, 0, 3, 3, 1, 2, 0, 0, 0, 0, 3, 2, 2], device='cuda:0'),Predicted:tensor([3, 1, 2, 1, 0, 3, 3, 1, 2, 0, 0, 0, 0, 3, 2, 2], device='cuda:0'),Loss:4.398822784423828e-05\n",
            "Label:tensor([2, 1, 2, 3, 0, 0, 2, 1, 2, 1, 2, 0, 0, 1, 0, 0], device='cuda:0'),Predicted:tensor([2, 1, 2, 3, 0, 0, 2, 1, 2, 1, 2, 0, 0, 1, 0, 0], device='cuda:0'),Loss:2.276897430419922e-05\n",
            "Label:tensor([1, 2, 2, 0, 2, 1, 0, 1, 1, 2, 1, 3, 2, 1, 3, 2], device='cuda:0'),Predicted:tensor([1, 2, 2, 0, 2, 1, 0, 1, 1, 2, 1, 3, 2, 1, 3, 2], device='cuda:0'),Loss:0.0018178224563598633\n",
            "Label:tensor([3, 3, 3, 0, 3, 1, 0, 3, 2, 2, 1, 0, 0, 3, 1, 0], device='cuda:0'),Predicted:tensor([3, 3, 3, 0, 3, 1, 0, 3, 2, 2, 1, 0, 0, 3, 1, 0], device='cuda:0'),Loss:0.0007482171058654785\n",
            "Label:tensor([3, 3, 3, 1, 1, 1, 3, 3, 0, 0, 2, 2, 1, 3, 0, 0], device='cuda:0'),Predicted:tensor([3, 3, 3, 1, 1, 1, 3, 3, 0, 0, 2, 2, 1, 3, 0, 0], device='cuda:0'),Loss:0.0001919269561767578\n",
            "Label:tensor([2, 1, 0, 1, 1, 2, 3, 2, 2, 3, 2, 0, 2, 1, 3, 3], device='cuda:0'),Predicted:tensor([2, 1, 0, 1, 1, 2, 3, 2, 2, 3, 2, 0, 2, 1, 3, 3], device='cuda:0'),Loss:1.710653305053711e-05\n",
            "Label:tensor([0, 1, 0, 3, 0, 0, 1, 1, 0, 0, 1, 0, 1, 3, 2, 3], device='cuda:0'),Predicted:tensor([0, 1, 0, 3, 0, 0, 1, 1, 0, 0, 1, 0, 1, 3, 2, 3], device='cuda:0'),Loss:1.806020736694336e-05\n",
            "Label:tensor([3, 1, 3, 0, 1, 3, 2, 1, 2, 3, 1, 3, 0, 0, 3, 1], device='cuda:0'),Predicted:tensor([3, 1, 3, 0, 1, 3, 2, 1, 2, 3, 1, 3, 0, 0, 3, 1], device='cuda:0'),Loss:1.4781951904296875e-05\n",
            "Label:tensor([2, 2, 0, 0, 1, 0, 3, 0, 1, 2, 3, 1, 3, 2, 1, 3], device='cuda:0'),Predicted:tensor([2, 2, 0, 0, 1, 0, 3, 0, 1, 2, 3, 1, 3, 2, 1, 3], device='cuda:0'),Loss:4.106760025024414e-05\n",
            "Label:tensor([2, 3, 1, 1, 2, 2, 2, 2, 3, 2, 3, 0, 2, 0, 3, 2], device='cuda:0'),Predicted:tensor([2, 3, 1, 1, 2, 2, 2, 2, 3, 2, 3, 0, 2, 0, 3, 2], device='cuda:0'),Loss:4.190206527709961e-05\n",
            "Label:tensor([0, 1, 1, 2, 1, 2, 0, 0, 0, 1, 3, 0, 1, 1, 2, 1], device='cuda:0'),Predicted:tensor([0, 1, 1, 2, 1, 2, 0, 0, 0, 1, 3, 0, 1, 1, 2, 1], device='cuda:0'),Loss:2.759695053100586e-05\n",
            "Label:tensor([1, 1, 1, 2, 3, 2, 1, 3, 0, 2, 2, 2, 3, 0, 1, 3], device='cuda:0'),Predicted:tensor([1, 1, 1, 2, 3, 2, 1, 3, 0, 2, 2, 2, 3, 0, 1, 3], device='cuda:0'),Loss:1.4662742614746094e-05\n",
            "Label:tensor([2, 1, 0, 1, 2, 0, 2, 0, 3, 3, 3, 2, 2, 1, 3, 2], device='cuda:0'),Predicted:tensor([2, 1, 0, 1, 2, 0, 2, 0, 3, 3, 3, 2, 2, 1, 3, 2], device='cuda:0'),Loss:1.2278556823730469e-05\n",
            "Label:tensor([0, 2, 2, 2, 3, 2, 1, 2, 2, 3, 1, 0, 0, 1, 2, 0], device='cuda:0'),Predicted:tensor([0, 2, 2, 2, 3, 2, 1, 2, 2, 3, 1, 0, 0, 1, 2, 0], device='cuda:0'),Loss:3.921985626220703e-05\n",
            "Label:tensor([3, 1, 3, 1, 1, 0, 3, 3, 3, 1, 3, 1, 3, 1, 3, 2], device='cuda:0'),Predicted:tensor([3, 1, 3, 1, 1, 0, 3, 3, 3, 1, 3, 1, 3, 1, 3, 2], device='cuda:0'),Loss:1.0013580322265625e-05\n",
            "Label:tensor([2, 0, 0, 2, 2, 0, 2, 3, 1, 2, 2, 0, 2, 2, 3, 0], device='cuda:0'),Predicted:tensor([2, 0, 0, 2, 2, 0, 2, 3, 1, 2, 2, 0, 2, 2, 3, 0], device='cuda:0'),Loss:1.138448715209961e-05\n",
            "Label:tensor([0, 1, 2, 0, 1, 3, 0, 0, 2, 0, 2, 0, 2, 2, 1, 3], device='cuda:0'),Predicted:tensor([0, 1, 2, 0, 1, 3, 0, 0, 2, 0, 2, 0, 2, 2, 1, 3], device='cuda:0'),Loss:9.5367431640625e-06\n",
            "Label:tensor([0, 0, 3, 2, 3, 0, 1, 1, 2, 0, 1, 0, 2, 0, 1, 2], device='cuda:0'),Predicted:tensor([0, 0, 3, 2, 3, 0, 1, 1, 2, 0, 1, 0, 2, 0, 1, 2], device='cuda:0'),Loss:4.494190216064453e-05\n",
            "Label:tensor([0, 0, 3, 3, 0, 1, 2, 3, 0, 3, 3, 2, 3, 1, 3, 3], device='cuda:0'),Predicted:tensor([0, 0, 3, 3, 0, 1, 2, 3, 0, 3, 3, 2, 3, 1, 3, 3], device='cuda:0'),Loss:9.894371032714844e-06\n",
            "Label:tensor([3, 2, 0, 2, 3, 3, 0, 2, 0, 3, 2, 1, 0, 0, 2, 3], device='cuda:0'),Predicted:tensor([3, 2, 0, 2, 3, 3, 0, 2, 0, 3, 2, 1, 0, 0, 2, 3], device='cuda:0'),Loss:5.2928924560546875e-05\n",
            "Label:tensor([0, 1, 3, 3, 3, 1, 3, 3, 3, 2, 2, 1, 2, 1, 1, 1], device='cuda:0'),Predicted:tensor([0, 1, 3, 3, 3, 1, 3, 3, 3, 2, 2, 1, 2, 1, 1, 1], device='cuda:0'),Loss:4.51207160949707e-05\n",
            "Label:tensor([3, 3, 0, 1, 2, 2, 1, 0, 3, 3, 1, 0, 0, 0, 2, 2], device='cuda:0'),Predicted:tensor([3, 3, 0, 1, 2, 2, 1, 0, 3, 3, 1, 0, 0, 0, 2, 2], device='cuda:0'),Loss:1.6570091247558594e-05\n",
            "Label:tensor([1, 2, 0, 0, 0, 1, 2, 3, 2, 1, 0, 1, 0, 2, 3, 1], device='cuda:0'),Predicted:tensor([1, 2, 0, 0, 0, 1, 2, 3, 2, 1, 0, 1, 0, 2, 3, 1], device='cuda:0'),Loss:2.574920654296875e-05\n",
            "Label:tensor([3, 2, 3, 0, 2, 0, 0, 0, 3, 3, 1, 2, 3, 3, 1, 0], device='cuda:0'),Predicted:tensor([3, 2, 3, 0, 2, 0, 0, 0, 3, 3, 1, 2, 3, 3, 1, 0], device='cuda:0'),Loss:5.9545040130615234e-05\n",
            "Label:tensor([3, 1, 1, 3, 0, 3, 0, 0, 1, 3, 3, 2, 2, 3, 0, 0], device='cuda:0'),Predicted:tensor([3, 1, 1, 3, 0, 3, 0, 0, 1, 3, 3, 2, 2, 3, 0, 0], device='cuda:0'),Loss:3.2007694244384766e-05\n",
            "Label:tensor([0, 0, 3, 0, 3, 0, 2, 1, 1, 2, 2, 1, 1, 3, 1, 2], device='cuda:0'),Predicted:tensor([0, 0, 3, 0, 3, 0, 2, 1, 1, 2, 2, 1, 1, 3, 1, 2], device='cuda:0'),Loss:1.2993812561035156e-05\n",
            "Label:tensor([0, 3, 1, 3, 3, 0, 0, 2, 1, 2, 0, 1, 1, 3, 0, 3], device='cuda:0'),Predicted:tensor([0, 3, 1, 3, 3, 0, 0, 2, 1, 2, 0, 1, 1, 3, 0, 3], device='cuda:0'),Loss:1.621246337890625e-05\n",
            "Label:tensor([2, 0, 3, 0, 2, 3, 2, 2, 1, 3, 3, 0, 2, 1, 1, 3], device='cuda:0'),Predicted:tensor([2, 0, 3, 0, 2, 3, 2, 2, 1, 3, 3, 0, 2, 1, 1, 3], device='cuda:0'),Loss:1.1444091796875e-05\n",
            "Label:tensor([2, 3, 2, 1, 2, 3, 3, 2, 0, 0, 2, 3, 3, 2, 3, 0], device='cuda:0'),Predicted:tensor([2, 3, 2, 1, 2, 3, 3, 2, 0, 0, 2, 3, 3, 2, 3, 0], device='cuda:0'),Loss:2.3365020751953125e-05\n",
            "Label:tensor([3, 0, 2, 1, 0, 1, 0, 2, 1, 3, 2, 3, 2, 3, 1, 0], device='cuda:0'),Predicted:tensor([3, 0, 2, 1, 0, 1, 0, 2, 1, 3, 2, 3, 2, 3, 1, 0], device='cuda:0'),Loss:1.3053417205810547e-05\n",
            "Label:tensor([2, 0, 0, 1, 1, 1, 0, 0, 0, 1, 0, 0, 2, 3, 3, 1], device='cuda:0'),Predicted:tensor([2, 0, 0, 1, 1, 1, 0, 0, 0, 1, 0, 0, 2, 3, 3, 1], device='cuda:0'),Loss:1.633167266845703e-05\n",
            "Label:tensor([3, 2, 0, 2, 3, 0, 3, 2, 1, 0, 2, 0, 3, 2, 1, 2], device='cuda:0'),Predicted:tensor([3, 2, 0, 2, 3, 0, 3, 2, 1, 0, 2, 0, 3, 2, 1, 2], device='cuda:0'),Loss:1.3470649719238281e-05\n",
            "Label:tensor([3, 2, 2, 2, 3, 0, 1, 3, 3, 0, 1, 3, 0, 3, 1, 0], device='cuda:0'),Predicted:tensor([3, 2, 2, 2, 3, 0, 1, 3, 3, 0, 1, 3, 0, 3, 1, 0], device='cuda:0'),Loss:4.494190216064453e-05\n",
            "Label:tensor([1, 1, 3, 3, 2, 0, 2, 0, 3, 3, 3, 0, 2, 0, 3, 2], device='cuda:0'),Predicted:tensor([1, 1, 3, 3, 2, 0, 2, 0, 3, 3, 3, 0, 2, 0, 3, 2], device='cuda:0'),Loss:3.3915042877197266e-05\n",
            "Label:tensor([2, 3, 1, 2, 1, 0, 0, 2, 2, 2, 1, 2, 3, 2, 0, 1], device='cuda:0'),Predicted:tensor([2, 3, 1, 2, 1, 0, 0, 2, 2, 2, 1, 2, 3, 2, 0, 1], device='cuda:0'),Loss:2.8789043426513672e-05\n",
            "Label:tensor([2, 1, 2, 0, 1, 0, 0, 3, 0, 3, 2, 1, 0, 1, 1, 2], device='cuda:0'),Predicted:tensor([2, 1, 2, 0, 1, 0, 0, 3, 0, 3, 2, 1, 0, 1, 1, 2], device='cuda:0'),Loss:0.0003427267074584961\n",
            "Label:tensor([1, 1, 1, 2, 3, 2, 2, 0, 3, 2, 1, 1, 3, 3, 2, 3], device='cuda:0'),Predicted:tensor([1, 1, 1, 2, 3, 2, 2, 0, 3, 2, 1, 1, 3, 3, 2, 3], device='cuda:0'),Loss:2.86102294921875e-05\n",
            "Label:tensor([0, 2, 1, 1, 3, 0, 3, 1, 2, 3, 3, 2, 3, 1, 0, 0], device='cuda:0'),Predicted:tensor([0, 2, 1, 1, 3, 0, 3, 1, 2, 3, 3, 2, 3, 1, 0, 0], device='cuda:0'),Loss:2.1457672119140625e-05\n",
            "Label:tensor([0, 3, 1, 1, 2, 1, 2, 3, 2, 3, 1, 2, 0, 2, 2, 0], device='cuda:0'),Predicted:tensor([0, 3, 1, 1, 2, 1, 2, 3, 2, 3, 1, 2, 0, 2, 2, 0], device='cuda:0'),Loss:5.036592483520508e-05\n",
            "Label:tensor([1, 0, 1, 0, 3, 0, 3, 2, 0, 2, 0, 0, 3, 3, 1, 1], device='cuda:0'),Predicted:tensor([1, 0, 1, 0, 3, 0, 3, 2, 0, 2, 0, 0, 3, 3, 1, 1], device='cuda:0'),Loss:7.3909759521484375e-06\n",
            "Label:tensor([1, 3, 3, 1, 1, 2, 3, 3, 3, 3, 3, 3, 2, 1, 2, 2], device='cuda:0'),Predicted:tensor([1, 3, 3, 1, 1, 2, 3, 3, 3, 3, 3, 3, 2, 1, 2, 2], device='cuda:0'),Loss:1.7583370208740234e-05\n",
            "Label:tensor([2, 1, 2, 0, 2, 3, 3, 2, 3, 2, 2, 3, 1, 3, 2, 2], device='cuda:0'),Predicted:tensor([2, 1, 2, 0, 2, 3, 3, 2, 3, 2, 2, 3, 1, 3, 2, 2], device='cuda:0'),Loss:5.251169204711914e-05\n",
            "Label:tensor([0, 3, 2, 2, 3, 0, 2, 3, 3, 2, 1, 2, 3, 1, 1, 0], device='cuda:0'),Predicted:tensor([0, 3, 2, 2, 3, 0, 2, 3, 3, 2, 1, 2, 3, 1, 1, 0], device='cuda:0'),Loss:1.1563301086425781e-05\n",
            "Label:tensor([0, 1, 1, 3, 3, 2, 3, 1, 1, 2, 3, 2, 0, 0, 0, 3], device='cuda:0'),Predicted:tensor([0, 1, 1, 3, 3, 2, 3, 1, 1, 2, 3, 2, 0, 0, 0, 3], device='cuda:0'),Loss:2.0384788513183594e-05\n",
            "Label:tensor([1, 3, 3, 2, 2, 0, 1, 0, 1, 1, 0, 3, 0, 0, 2, 2], device='cuda:0'),Predicted:tensor([1, 3, 3, 2, 2, 0, 1, 0, 1, 1, 0, 3, 0, 0, 2, 2], device='cuda:0'),Loss:4.7087669372558594e-05\n",
            "Label:tensor([3, 2, 3, 3, 3, 2, 0, 0, 1, 2, 2, 0, 3, 3, 0, 1], device='cuda:0'),Predicted:tensor([3, 2, 3, 3, 3, 2, 0, 0, 1, 2, 2, 0, 3, 3, 0, 1], device='cuda:0'),Loss:0.000713050365447998\n",
            "Label:tensor([1, 2, 1, 0, 3, 3, 2, 0, 0, 0, 3, 3, 2, 2, 1, 1], device='cuda:0'),Predicted:tensor([1, 2, 1, 0, 3, 3, 2, 0, 0, 0, 3, 3, 2, 2, 1, 1], device='cuda:0'),Loss:2.4318695068359375e-05\n",
            "Label:tensor([1, 0, 1, 2, 2, 2, 0, 3, 2, 2, 3, 3, 3, 0, 3, 2], device='cuda:0'),Predicted:tensor([1, 0, 1, 2, 2, 2, 0, 3, 2, 2, 3, 3, 3, 0, 3, 2], device='cuda:0'),Loss:0.0005145072937011719\n",
            "Label:tensor([0, 2, 2, 2, 2, 0, 2, 1, 0, 1, 3, 0, 1, 0, 3, 3], device='cuda:0'),Predicted:tensor([0, 2, 2, 2, 2, 0, 2, 1, 0, 1, 3, 0, 1, 0, 3, 3], device='cuda:0'),Loss:8.344650268554688e-06\n",
            "Label:tensor([1, 0, 1, 0, 3, 0, 1, 1, 0, 2, 2, 0, 1, 2, 0, 0], device='cuda:0'),Predicted:tensor([1, 0, 1, 0, 3, 0, 1, 1, 0, 2, 2, 0, 1, 2, 0, 0], device='cuda:0'),Loss:7.3909759521484375e-06\n",
            "Label:tensor([1, 1, 1, 0, 0, 0, 0, 0, 2, 0, 2, 3, 2, 0, 3, 0], device='cuda:0'),Predicted:tensor([1, 1, 1, 0, 0, 0, 0, 0, 2, 0, 2, 3, 2, 0, 3, 0], device='cuda:0'),Loss:1.4483928680419922e-05\n",
            "Label:tensor([0, 1, 1, 2, 0, 0, 3, 1, 0, 3, 1, 1, 3, 2, 2, 2], device='cuda:0'),Predicted:tensor([0, 1, 1, 2, 0, 0, 3, 1, 0, 3, 1, 1, 3, 2, 2, 2], device='cuda:0'),Loss:7.867813110351562e-06\n",
            "Label:tensor([0, 2, 0, 2, 0, 3, 3, 0, 1, 1, 3, 3, 1, 1, 1, 3], device='cuda:0'),Predicted:tensor([0, 2, 0, 2, 0, 3, 3, 0, 1, 1, 3, 3, 1, 1, 1, 3], device='cuda:0'),Loss:1.0132789611816406e-05\n",
            "Label:tensor([0, 3, 3, 3, 0, 0, 3, 2, 3, 1, 3, 1, 0, 2, 3, 1], device='cuda:0'),Predicted:tensor([0, 3, 3, 3, 0, 0, 3, 2, 3, 1, 3, 1, 0, 2, 3, 1], device='cuda:0'),Loss:2.777576446533203e-05\n",
            "Label:tensor([0, 3, 3, 0, 2, 0, 3, 1, 0, 0, 2, 0, 0, 0, 2, 1], device='cuda:0'),Predicted:tensor([0, 3, 3, 0, 2, 0, 3, 1, 0, 0, 2, 0, 0, 0, 2, 1], device='cuda:0'),Loss:1.609325408935547e-05\n",
            "Label:tensor([0, 1, 1, 1, 3, 1, 0, 0, 3, 2, 3, 3, 1, 0, 0, 1], device='cuda:0'),Predicted:tensor([0, 1, 1, 1, 3, 1, 0, 0, 3, 2, 3, 3, 1, 0, 0, 1], device='cuda:0'),Loss:0.00022971630096435547\n",
            "Label:tensor([0, 3, 1, 2, 1, 0, 0, 3, 2, 1, 0, 0, 1, 3, 3, 1], device='cuda:0'),Predicted:tensor([0, 3, 1, 2, 1, 0, 0, 3, 2, 1, 0, 0, 1, 3, 3, 1], device='cuda:0'),Loss:8.344650268554688e-06\n",
            "Label:tensor([2, 0, 1, 1, 2, 1, 0, 0, 2, 2, 3, 3, 2, 0, 1, 0], device='cuda:0'),Predicted:tensor([2, 0, 1, 1, 2, 1, 0, 0, 2, 2, 3, 3, 2, 0, 1, 0], device='cuda:0'),Loss:0.0001291036605834961\n",
            "Label:tensor([3, 2, 1, 3, 0, 0, 3, 3, 1, 1, 3, 0, 0, 3, 1, 0], device='cuda:0'),Predicted:tensor([3, 2, 1, 3, 0, 0, 3, 3, 1, 1, 3, 0, 0, 3, 1, 0], device='cuda:0'),Loss:8.463859558105469e-06\n",
            "Label:tensor([0, 1, 0, 1, 3, 3, 2, 0, 1, 1, 2, 0, 3, 1, 2, 0], device='cuda:0'),Predicted:tensor([0, 1, 0, 1, 3, 3, 2, 0, 1, 1, 2, 0, 3, 1, 2, 0], device='cuda:0'),Loss:1.3113021850585938e-05\n",
            "Label:tensor([3, 1, 1, 3, 3, 0, 0, 3, 3, 1, 1, 2, 3, 0, 2, 0], device='cuda:0'),Predicted:tensor([3, 1, 1, 3, 3, 0, 0, 3, 3, 1, 1, 2, 3, 0, 2, 0], device='cuda:0'),Loss:0.00047576427459716797\n",
            "Label:tensor([1, 1, 2, 0, 3, 1, 2, 3, 0, 1, 1, 2, 1, 2, 1, 2], device='cuda:0'),Predicted:tensor([1, 1, 2, 0, 3, 1, 2, 3, 0, 1, 1, 2, 1, 2, 1, 2], device='cuda:0'),Loss:1.4126300811767578e-05\n",
            "Label:tensor([1, 1, 1, 0, 1, 2, 1, 0, 1, 2, 0, 2, 0, 3, 0, 2], device='cuda:0'),Predicted:tensor([1, 1, 1, 0, 1, 2, 1, 0, 1, 2, 0, 2, 0, 3, 0, 2], device='cuda:0'),Loss:2.3126602172851562e-05\n",
            "Label:tensor([3, 1, 2, 1, 2, 3, 2, 3, 0, 0, 1, 2, 0, 2, 2, 3], device='cuda:0'),Predicted:tensor([3, 1, 2, 1, 2, 3, 2, 3, 0, 0, 1, 2, 0, 2, 2, 3], device='cuda:0'),Loss:1.0728836059570312e-05\n",
            "Label:tensor([3, 3, 3, 2, 2, 2, 0, 2, 1, 0, 1, 2, 2, 3, 3, 2], device='cuda:0'),Predicted:tensor([3, 3, 3, 2, 2, 2, 0, 2, 1, 0, 1, 2, 2, 3, 3, 2], device='cuda:0'),Loss:2.5093555450439453e-05\n",
            "Label:tensor([3, 0, 1, 1, 1, 3, 2, 0, 1, 0, 3, 3, 1, 3, 2, 2], device='cuda:0'),Predicted:tensor([3, 0, 1, 1, 1, 3, 2, 0, 1, 0, 3, 3, 1, 3, 2, 2], device='cuda:0'),Loss:1.049041748046875e-05\n",
            "Label:tensor([0, 2, 1, 1, 2, 1, 2, 2, 3, 0, 1, 3, 1, 1, 1, 0], device='cuda:0'),Predicted:tensor([0, 2, 1, 1, 2, 1, 2, 2, 3, 0, 1, 3, 1, 1, 1, 0], device='cuda:0'),Loss:4.00543212890625e-05\n",
            "Label:tensor([2, 1, 1, 1, 2, 0, 1, 1, 2, 2, 3, 2, 0, 3, 2, 2], device='cuda:0'),Predicted:tensor([2, 1, 1, 1, 2, 0, 1, 1, 2, 2, 3, 2, 0, 3, 2, 2], device='cuda:0'),Loss:1.8894672393798828e-05\n",
            "Label:tensor([2, 2, 0, 1, 3, 0, 0, 0, 1, 0, 1, 2, 3, 2, 0, 1], device='cuda:0'),Predicted:tensor([2, 2, 0, 1, 3, 0, 0, 0, 1, 0, 1, 2, 3, 2, 0, 1], device='cuda:0'),Loss:0.00019085407257080078\n",
            "Label:tensor([1, 0, 0, 3, 0, 3, 3, 1, 1, 0, 1, 1, 2, 1, 3, 0], device='cuda:0'),Predicted:tensor([1, 0, 0, 3, 0, 3, 3, 1, 1, 0, 1, 1, 2, 1, 3, 0], device='cuda:0'),Loss:2.872943878173828e-05\n",
            "Label:tensor([1, 1, 2, 0, 2, 1, 3, 2, 0, 0, 2, 1, 2, 3, 2, 3], device='cuda:0'),Predicted:tensor([1, 1, 2, 0, 2, 1, 3, 2, 0, 0, 2, 1, 2, 3, 2, 3], device='cuda:0'),Loss:1.6391277313232422e-05\n",
            "Label:tensor([0, 2, 2, 2, 2, 0, 0, 1, 3, 0, 0, 1, 2, 2, 3, 2], device='cuda:0'),Predicted:tensor([0, 2, 2, 2, 2, 0, 0, 1, 3, 0, 0, 1, 2, 2, 3, 2], device='cuda:0'),Loss:1.6808509826660156e-05\n",
            "Label:tensor([0, 1, 0, 1, 3, 3, 1, 1, 3, 0, 0, 2, 3, 0, 2, 0], device='cuda:0'),Predicted:tensor([0, 1, 0, 1, 3, 3, 1, 1, 3, 0, 0, 2, 3, 0, 2, 0], device='cuda:0'),Loss:1.9550323486328125e-05\n",
            "Label:tensor([3, 0, 2, 1, 1, 1, 3, 3, 0, 0, 0, 3, 0, 3, 3, 0], device='cuda:0'),Predicted:tensor([3, 0, 2, 1, 1, 1, 3, 3, 0, 0, 0, 3, 0, 3, 3, 0], device='cuda:0'),Loss:7.271766662597656e-06\n",
            "Label:tensor([3, 0, 1, 0, 0, 0, 2, 2, 1, 2, 2, 3, 0, 2, 3, 2], device='cuda:0'),Predicted:tensor([3, 0, 1, 0, 0, 0, 2, 2, 1, 2, 2, 3, 0, 2, 3, 2], device='cuda:0'),Loss:2.276897430419922e-05\n",
            "Label:tensor([3, 3, 3, 0, 0, 0, 1, 3, 1, 2, 3, 1, 1, 2, 3, 0], device='cuda:0'),Predicted:tensor([3, 3, 3, 0, 0, 0, 1, 3, 1, 2, 3, 1, 1, 2, 3, 0], device='cuda:0'),Loss:1.8358230590820312e-05\n",
            "Label:tensor([0, 2, 3, 2, 3, 2, 0, 0, 3, 3, 3, 2, 2, 0, 0, 0], device='cuda:0'),Predicted:tensor([0, 2, 3, 2, 3, 2, 0, 0, 3, 3, 3, 2, 2, 0, 0, 0], device='cuda:0'),Loss:1.138448715209961e-05\n",
            "Label:tensor([0, 1, 1, 0, 0, 3, 3, 1, 1, 0, 0, 1, 3, 3, 2, 0], device='cuda:0'),Predicted:tensor([0, 1, 1, 0, 0, 3, 3, 1, 1, 0, 0, 1, 3, 3, 2, 0], device='cuda:0'),Loss:1.537799835205078e-05\n",
            "Label:tensor([0, 3, 2, 3, 3, 2, 1, 1, 3, 0, 0, 2, 2, 1, 2, 3], device='cuda:0'),Predicted:tensor([0, 3, 2, 3, 3, 2, 1, 1, 3, 0, 0, 2, 2, 1, 2, 3], device='cuda:0'),Loss:1.7523765563964844e-05\n",
            "Label:tensor([1, 1, 0, 1, 3, 1, 0, 2, 0, 3, 1, 3, 2, 2, 3, 3], device='cuda:0'),Predicted:tensor([1, 1, 0, 1, 3, 1, 0, 2, 0, 3, 1, 3, 2, 2, 3, 3], device='cuda:0'),Loss:7.867813110351562e-06\n",
            "Label:tensor([1, 2, 1, 2, 1, 0, 0, 0, 1, 3, 2, 0, 2, 3, 0, 1], device='cuda:0'),Predicted:tensor([1, 2, 1, 2, 1, 0, 0, 0, 1, 3, 2, 0, 2, 3, 0, 1], device='cuda:0'),Loss:1.8417835235595703e-05\n",
            "Label:tensor([2, 0, 1, 3, 2, 2, 1, 3, 2, 0, 2, 2, 1, 3, 0, 3], device='cuda:0'),Predicted:tensor([2, 0, 1, 3, 2, 2, 1, 3, 2, 0, 2, 2, 1, 3, 0, 3], device='cuda:0'),Loss:1.9311904907226562e-05\n",
            "Label:tensor([3, 1, 3, 3, 1, 0, 1, 3, 1, 2, 1, 1, 2, 0, 1, 2], device='cuda:0'),Predicted:tensor([3, 1, 3, 3, 1, 0, 1, 3, 1, 2, 1, 1, 2, 0, 1, 2], device='cuda:0'),Loss:1.7583370208740234e-05\n",
            "Label:tensor([1, 2, 2, 2, 1, 2, 3, 3, 2, 1, 3, 1, 1, 1, 0, 3], device='cuda:0'),Predicted:tensor([1, 2, 2, 2, 1, 2, 3, 3, 2, 1, 3, 1, 1, 1, 0, 3], device='cuda:0'),Loss:4.1484832763671875e-05\n",
            "Label:tensor([1, 1, 3, 1, 0, 1, 3, 3, 2, 1, 0, 2, 3, 3, 3, 1], device='cuda:0'),Predicted:tensor([1, 1, 3, 1, 0, 1, 3, 3, 2, 1, 0, 2, 3, 3, 3, 1], device='cuda:0'),Loss:9.298324584960938e-06\n",
            "Label:tensor([0, 3, 3, 3, 2, 3, 2, 0, 3, 3, 1, 2, 2, 0, 0, 2], device='cuda:0'),Predicted:tensor([0, 3, 3, 3, 2, 3, 2, 0, 3, 3, 1, 2, 2, 0, 0, 2], device='cuda:0'),Loss:4.416704177856445e-05\n",
            "Label:tensor([0, 1, 0, 2, 1, 2, 3, 0, 0, 2, 3, 1, 3, 1, 3, 1], device='cuda:0'),Predicted:tensor([0, 1, 0, 2, 1, 2, 3, 0, 0, 2, 3, 1, 3, 1, 3, 1], device='cuda:0'),Loss:1.0609626770019531e-05\n",
            "Label:tensor([1, 2, 0, 0, 0, 1, 1, 1, 2, 0, 1, 0, 3, 2, 2, 0], device='cuda:0'),Predicted:tensor([1, 2, 0, 0, 0, 1, 1, 1, 2, 0, 1, 0, 3, 2, 2, 0], device='cuda:0'),Loss:1.5139579772949219e-05\n",
            "Label:tensor([3, 3, 2, 0, 3, 0, 1, 1, 2, 2, 3, 0, 2, 3, 0, 2], device='cuda:0'),Predicted:tensor([3, 3, 2, 0, 3, 0, 1, 1, 2, 2, 3, 0, 2, 3, 0, 2], device='cuda:0'),Loss:2.2411346435546875e-05\n",
            "Label:tensor([1, 2, 0, 2, 2, 3, 1, 3, 2, 0, 0, 0, 2, 0, 3, 0], device='cuda:0'),Predicted:tensor([1, 2, 0, 2, 2, 3, 1, 3, 2, 0, 0, 0, 2, 0, 3, 0], device='cuda:0'),Loss:1.0967254638671875e-05\n",
            "Label:tensor([1, 0, 2, 1, 3, 2, 3, 0, 1, 1, 2, 3, 3, 2, 3, 3], device='cuda:0'),Predicted:tensor([1, 0, 2, 1, 3, 2, 3, 0, 1, 1, 2, 3, 3, 2, 3, 3], device='cuda:0'),Loss:1.990795135498047e-05\n",
            "Label:tensor([3, 2, 0, 2, 1, 2, 0, 2, 2, 3, 2, 3, 1, 0, 2, 0], device='cuda:0'),Predicted:tensor([3, 2, 0, 2, 1, 2, 0, 2, 2, 3, 2, 3, 1, 0, 2, 0], device='cuda:0'),Loss:2.300739288330078e-05\n",
            "Label:tensor([3, 1, 3, 2, 0, 3, 0, 3, 3, 0, 1, 3, 3, 3, 2, 3], device='cuda:0'),Predicted:tensor([3, 1, 3, 2, 0, 3, 0, 3, 3, 0, 1, 3, 3, 3, 2, 3], device='cuda:0'),Loss:1.1801719665527344e-05\n",
            "Label:tensor([3, 2, 2, 1, 1, 1, 1, 3, 3, 1, 1, 3, 0, 1, 1, 2], device='cuda:0'),Predicted:tensor([3, 2, 2, 1, 1, 1, 1, 3, 3, 1, 1, 3, 0, 1, 1, 2], device='cuda:0'),Loss:5.555152893066406e-05\n",
            "Label:tensor([1, 1, 2, 0, 1, 1, 3, 3, 1, 2, 2, 3, 1, 1, 1, 3], device='cuda:0'),Predicted:tensor([1, 1, 2, 0, 1, 1, 3, 3, 1, 2, 2, 3, 1, 1, 1, 3], device='cuda:0'),Loss:3.0517578125e-05\n",
            "Label:tensor([0, 1, 3, 2, 2, 0, 2, 1, 1, 0, 2, 2, 0, 0, 2, 0], device='cuda:0'),Predicted:tensor([0, 1, 3, 2, 2, 0, 2, 1, 1, 0, 2, 2, 0, 0, 2, 0], device='cuda:0'),Loss:4.172325134277344e-05\n",
            "Label:tensor([3, 0, 1, 1, 2, 0, 1, 2, 3, 1, 2, 3, 1, 3, 1, 3], device='cuda:0'),Predicted:tensor([3, 0, 1, 1, 2, 0, 1, 2, 3, 1, 2, 3, 1, 3, 1, 3], device='cuda:0'),Loss:2.7120113372802734e-05\n",
            "Label:tensor([1, 1, 0, 1, 0, 1, 1, 3, 0, 1, 3, 2, 3, 3], device='cuda:0'),Predicted:tensor([1, 1, 0, 1, 0, 1, 1, 3, 0, 1, 3, 2, 3, 3], device='cuda:0'),Loss:7.220677161967615e-06\n",
            "100.0\n"
          ],
          "name": "stdout"
        },
        {
          "output_type": "execute_result",
          "data": {
            "text/plain": [
              "[<matplotlib.lines.Line2D at 0x7ff5d2296d68>]"
            ]
          },
          "metadata": {
            "tags": []
          },
          "execution_count": 40
        },
        {
          "output_type": "display_data",
          "data": {
            "image/png": "[encoded data removed]",
            "text/plain": [
              "<matplotlib.figure.Figure at 0x7ff5d22da320>"
            ]
          },
          "metadata": {
            "tags": []
          }
        }
      ]
    },
    {
      "metadata": {
        "id": "1DGWWWC8gRdp",
        "colab_type": "code",
        "colab": {
          "base_uri": "https://localhost:8080/",
          "height": 34
        },
        "outputId": "94dae3b2-659f-40e3-8d9b-80991cf9759e"
      },
      "cell_type": "code",
      "source": [
        "print(100*(correct/total))\n",
        "torch.save(model.state_dict(),\"successfully_trained_model.ckpt\")"
      ],
      "execution_count": 43,
      "outputs": [
        {
          "output_type": "stream",
          "text": [
            "100.0\n"
          ],
          "name": "stdout"
        }
      ]
    },
    {
      "metadata": {
        "id": "gnzy2AWOdClG",
        "colab_type": "code",
        "colab": {
          "base_uri": "https://localhost:8080/",
          "height": 365
        },
        "outputId": "74d0a0d1-0274-474d-9337-04cb35c32be5"
      },
      "cell_type": "code",
      "source": [
        "plt.plot(range(len(batchloss)),batchloss)"
      ],
      "execution_count": 42,
      "outputs": [
        {
          "output_type": "execute_result",
          "data": {
            "text/plain": [
              "[<matplotlib.lines.Line2D at 0x7ff5d22726d8>]"
            ]
          },
          "metadata": {
            "tags": []
          },
          "execution_count": 42
        },
        {
          "output_type": "display_data",
          "data": {
            "image/png": "[encoded data removed]",
            "text/plain": [
              "<matplotlib.figure.Figure at 0x7ff5d224a208>"
            ]
          },
          "metadata": {
            "tags": []
          }
        }
      ]
    }
  ]
}